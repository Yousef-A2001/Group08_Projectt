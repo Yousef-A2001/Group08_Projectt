{
 "cells": [
  {
   "cell_type": "code",
   "execution_count": 12,
   "id": "d0557138",
   "metadata": {},
   "outputs": [
    {
     "data": {
      "text/plain": [
       "(154,)"
      ]
     },
     "execution_count": 12,
     "metadata": {},
     "output_type": "execute_result"
    }
   ],
   "source": [
    "import numpy as np\n",
    "import pandas as pd\n",
    "import matplotlib.pyplot as plt\n",
    "import seaborn as sns\n",
    "from sklearn.model_selection import train_test_split\n",
    "\n",
    "data = pd.read_csv('C:/Users/abdal/Desktop/Winter 2022/BMEN 415/Project/Classification/Classification_Diabetes_Dataset.csv')\n",
    "\n",
    "### Outcome = 1 means patient has diabetes\n",
    "### Outcome = 0 means patient does not have diabetes\n",
    "df = pd.DataFrame(data)\n",
    "\n",
    "x=df.iloc[:,0:8]\n",
    "y=df.iloc[:,8]\n",
    "x_train, x_test, y_train, y_test = train_test_split(x,y,train_size=0.8, random_state=5)\n",
    "#print(x.head())\n",
    "#print(y.head())\n",
    "#x_train.shape\n",
    "y_test.shape"
   ]
  },
  {
   "cell_type": "code",
   "execution_count": 11,
   "id": "c860f337",
   "metadata": {},
   "outputs": [
    {
     "name": "stdout",
     "output_type": "stream",
     "text": [
      "Accuracy: 0.7792207792207793\n",
      "Confusion Matrix:\n",
      " [[84 16]\n",
      " [18 36]]\n"
     ]
    }
   ],
   "source": [
    "### Quadratic Discriminant Analysis\n",
    "\n",
    "from sklearn.discriminant_analysis import QuadraticDiscriminantAnalysis\n",
    "from sklearn.metrics import accuracy_score, confusion_matrix\n",
    "\n",
    "qda=QuadraticDiscriminantAnalysis()\n",
    "qda.fit(x_train,y_train)\n",
    "\n",
    "y_predict_test = qda.predict(x_test)\n",
    "\n",
    "acc = accuracy_score(y_test, y_predict_test)\n",
    "cm = confusion_matrix(y_test,y_predict_test)\n",
    "\n",
    "print('Accuracy:',acc)\n",
    "print('Confusion Matrix:\\n',cm)"
   ]
  },
  {
   "cell_type": "code",
   "execution_count": 14,
   "id": "8ac95979",
   "metadata": {},
   "outputs": [
    {
     "name": "stdout",
     "output_type": "stream",
     "text": [
      "Accuracy: 0.7727272727272727\n",
      "Confusion Matrix:\n",
      " [[89 11]\n",
      " [24 30]]\n"
     ]
    }
   ],
   "source": [
    "### Hist Gradient Boosting \n",
    "\n",
    "from sklearn.ensemble import GradientBoostingClassifier\n",
    "from sklearn.metrics import accuracy_score, confusion_matrix\n",
    "\n",
    "gbc=GradientBoostingClassifier()\n",
    "gbc.fit(x_train,y_train)\n",
    "\n",
    "y_predict_test = gbc.predict(x_test)\n",
    "\n",
    "acc = accuracy_score(y_test, y_predict_test)\n",
    "cm = confusion_matrix(y_test,y_predict_test)\n",
    "\n",
    "print('Accuracy:',acc)\n",
    "print('Confusion Matrix:\\n',cm)"
   ]
  },
  {
   "cell_type": "code",
   "execution_count": 16,
   "id": "4a1954dc",
   "metadata": {},
   "outputs": [
    {
     "name": "stdout",
     "output_type": "stream",
     "text": [
      "Accuracy: 0.577922077922078\n",
      "Confusion Matrix:\n",
      " [[45 55]\n",
      " [10 44]]\n"
     ]
    }
   ],
   "source": [
    "### Stochastic Gradient Descent\n",
    "\n",
    "from sklearn.linear_model import SGDClassifier\n",
    "from sklearn.metrics import accuracy_score, confusion_matrix\n",
    "\n",
    "sgd=SGDClassifier()\n",
    "sgd.fit(x_train,y_train)\n",
    "\n",
    "y_predict_test = sgd.predict(x_test)\n",
    "\n",
    "acc = accuracy_score(y_test, y_predict_test)\n",
    "cm = confusion_matrix(y_test,y_predict_test)\n",
    "\n",
    "print('Accuracy:',acc)\n",
    "print('Confusion Matrix:\\n',cm)"
   ]
  },
  {
   "cell_type": "code",
   "execution_count": null,
   "id": "b6165695",
   "metadata": {},
   "outputs": [],
   "source": []
  }
 ],
 "metadata": {
  "kernelspec": {
   "display_name": "Python 3 (ipykernel)",
   "language": "python",
   "name": "python3"
  },
  "language_info": {
   "codemirror_mode": {
    "name": "ipython",
    "version": 3
   },
   "file_extension": ".py",
   "mimetype": "text/x-python",
   "name": "python",
   "nbconvert_exporter": "python",
   "pygments_lexer": "ipython3",
   "version": "3.9.7"
  }
 },
 "nbformat": 4,
 "nbformat_minor": 5
}
