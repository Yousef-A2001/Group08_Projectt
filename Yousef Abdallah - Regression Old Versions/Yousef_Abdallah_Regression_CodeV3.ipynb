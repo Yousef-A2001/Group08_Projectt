{
 "cells": [
  {
   "cell_type": "code",
   "execution_count": 2,
   "id": "d24c1ff4",
   "metadata": {
    "scrolled": false
   },
   "outputs": [
    {
     "name": "stdout",
     "output_type": "stream",
     "text": [
      "   nHM  piPC09   PCD  X2Av  MLOGP  ON1V  N-072  B02[C-N]  F04[C-O]\n",
      "0    0     0.0  1.49  0.14   1.35  0.72      0         1         5\n",
      "1    0     0.0  1.47  0.14   1.70  0.88      0         1         5\n",
      "2    0     0.0  1.20  0.25   4.14  2.06      0         0         0\n",
      "3    0     0.0  1.69  0.13   1.89  0.79      0         1         8\n",
      "4    0     0.0  0.52  0.25   2.65  1.31      0         0         0\n",
      "0    0.74\n",
      "1    0.93\n",
      "2    3.24\n",
      "3   -0.40\n",
      "4    2.24\n",
      "Name: logBCF, dtype: float64\n"
     ]
    },
    {
     "data": {
      "text/plain": [
       "(623, 9)"
      ]
     },
     "execution_count": 2,
     "metadata": {},
     "output_type": "execute_result"
    }
   ],
   "source": [
    "import numpy as np\n",
    "import pandas as pd\n",
    "import matplotlib.pyplot as plt\n",
    "import seaborn as sns\n",
    "from sklearn.model_selection import train_test_split\n",
    "\n",
    "data = pd.read_csv('C:/Users/abdal/Desktop/Winter 2022/BMEN 415/Project/Regression/Regression_QSAR_Bioconcentration.csv')\n",
    "\n",
    "##TRAINING: INDEX 0 to 584\n",
    "##TESTING: INDEX 585 to 778\n",
    "df = pd.DataFrame(data)\n",
    "\n",
    "x = df.iloc[:,3:12]\n",
    "y = df.iloc[:,13]\n",
    "x_train, x_test, y_train, y_test = train_test_split(x,y,train_size=0.8, random_state=5)\n",
    "print(x.head())\n",
    "print(y.head())\n",
    "x_train.shape"
   ]
  },
  {
   "cell_type": "code",
   "execution_count": 3,
   "id": "a5e97a23",
   "metadata": {
    "scrolled": false
   },
   "outputs": [
    {
     "name": "stdout",
     "output_type": "stream",
     "text": [
      "Mean Square Error: 0.5328610433038373\n",
      "Root Mean Square Error: 0.7299733168437305\n",
      "R^2: 0.7465514210616206\n"
     ]
    },
    {
     "name": "stderr",
     "output_type": "stream",
     "text": [
      "C:\\Users\\abdal\\anaconda3\\lib\\site-packages\\seaborn\\_decorators.py:36: FutureWarning: Pass the following variables as keyword args: x, y. From version 0.12, the only valid positional argument will be `data`, and passing other arguments without an explicit keyword will result in an error or misinterpretation.\n",
      "  warnings.warn(\n"
     ]
    },
    {
     "data": {
      "text/plain": [
       "Text(0.5, 1.0, 'Random Forest Model')"
      ]
     },
     "execution_count": 3,
     "metadata": {},
     "output_type": "execute_result"
    },
    {
     "data": {
      "image/png": "[encoded data removed]",
      "text/plain": [
       "<Figure size 432x288 with 1 Axes>"
      ]
     },
     "metadata": {
      "needs_background": "light"
     },
     "output_type": "display_data"
    }
   ],
   "source": [
    "###Random Forest\n",
    "\n",
    "from sklearn.ensemble import RandomForestRegressor\n",
    "from sklearn.metrics import mean_squared_error,accuracy_score,r2_score\n",
    "\n",
    "rfr = RandomForestRegressor(random_state=5) ##Creating a model object of type Random forest regressor\n",
    "rfr.fit(x_train,y_train)    #Training the model\n",
    "\n",
    "y_predict_test = rfr.predict(x_test)   #Predicted Values\n",
    "\n",
    "mse = mean_squared_error(y_test,y_predict_test,squared=True) #Returns MSE\n",
    "rmse = mean_squared_error(y_test,y_predict_test,squared=False) #Returns RMSE\n",
    "r2 = r2_score(y_test,y_predict_test)  ## Returns R2 value\n",
    "\n",
    "\n",
    "print('Mean Square Error:',mse)\n",
    "print('Root Mean Square Error:',rmse)\n",
    "print('R^2:',r2)\n",
    "\n",
    "sns.scatterplot(y_test,y_predict_test)\n",
    "plt.xlabel('Actual')\n",
    "plt.ylabel('Predicted')\n",
    "plt.title(\"Random Forest Model\")"
   ]
  },
  {
   "cell_type": "code",
   "execution_count": 4,
   "id": "ebd92b51",
   "metadata": {},
   "outputs": [
    {
     "name": "stdout",
     "output_type": "stream",
     "text": [
      "Mean Square Error: 0.5597965892610399\n",
      "Root Mean Square Error: 0.7481955554940433\n",
      "R^2: 0.7337398711621288\n"
     ]
    },
    {
     "name": "stderr",
     "output_type": "stream",
     "text": [
      "C:\\Users\\abdal\\anaconda3\\lib\\site-packages\\seaborn\\_decorators.py:36: FutureWarning: Pass the following variables as keyword args: x, y. From version 0.12, the only valid positional argument will be `data`, and passing other arguments without an explicit keyword will result in an error or misinterpretation.\n",
      "  warnings.warn(\n"
     ]
    },
    {
     "data": {
      "text/plain": [
       "Text(0.5, 1.0, 'Bagged Forest Model')"
      ]
     },
     "execution_count": 4,
     "metadata": {},
     "output_type": "execute_result"
    },
    {
     "data": {
      "image/png": "[encoded data removed]",
      "text/plain": [
       "<Figure size 432x288 with 1 Axes>"
      ]
     },
     "metadata": {
      "needs_background": "light"
     },
     "output_type": "display_data"
    }
   ],
   "source": [
    "### Bagged Forest\n",
    "from sklearn.ensemble import BaggingRegressor\n",
    "from sklearn.metrics import mean_squared_error,accuracy_score,r2_score\n",
    "\n",
    "bfr = BaggingRegressor(random_state=5)\n",
    "bfr.fit(x_train,y_train)\n",
    "\n",
    "y_predict_test = bfr.predict(x_test)\n",
    "\n",
    "mse = mean_squared_error(y_test,y_predict_test,squared=True) #Returns MSE\n",
    "rmse = mean_squared_error(y_test,y_predict_test,squared=False) #Returns RMSE\n",
    "r2 = r2_score(y_test,y_predict_test)  ## Returns R2 value\n",
    "#acc = accuracy_score(y_test,y_predict_test)   #Accuracy for classification\n",
    "\n",
    "print('Mean Square Error:',mse)\n",
    "print('Root Mean Square Error:',rmse)\n",
    "print('R^2:',r2)\n",
    "\n",
    "sns.scatterplot(y_test,y_predict_test)\n",
    "plt.xlabel('Actual')\n",
    "plt.ylabel('Predicted')\n",
    "plt.title(\"Bagged Forest Model\")"
   ]
  },
  {
   "cell_type": "code",
   "execution_count": 5,
   "id": "1cbde898",
   "metadata": {},
   "outputs": [
    {
     "name": "stdout",
     "output_type": "stream",
     "text": [
      "Mean Square Error: 0.47992557031304656\n",
      "Root Mean Square Error: 0.6927666059453549\n",
      "R^2: 0.7717295056177041\n"
     ]
    },
    {
     "name": "stderr",
     "output_type": "stream",
     "text": [
      "C:\\Users\\abdal\\anaconda3\\lib\\site-packages\\seaborn\\_decorators.py:36: FutureWarning: Pass the following variables as keyword args: x, y. From version 0.12, the only valid positional argument will be `data`, and passing other arguments without an explicit keyword will result in an error or misinterpretation.\n",
      "  warnings.warn(\n"
     ]
    },
    {
     "data": {
      "text/plain": [
       "Text(0.5, 1.0, 'Support Vector Regression Model')"
      ]
     },
     "execution_count": 5,
     "metadata": {},
     "output_type": "execute_result"
    },
    {
     "data": {
      "image/png": "[encoded data removed]",
      "text/plain": [
       "<Figure size 432x288 with 1 Axes>"
      ]
     },
     "metadata": {
      "needs_background": "light"
     },
     "output_type": "display_data"
    }
   ],
   "source": [
    "###Support Vector Regression\n",
    "\n",
    "from sklearn.svm import SVR\n",
    "from sklearn.metrics import mean_squared_error,accuracy_score,r2_score\n",
    "\n",
    "svr = SVR()\n",
    "svr.fit(x_train,y_train)\n",
    "\n",
    "y_predict_test = svr.predict(x_test)\n",
    "\n",
    "mse = mean_squared_error(y_test,y_predict_test,squared=True) #Returns MSE\n",
    "rmse = mean_squared_error(y_test,y_predict_test,squared=False) #Returns RMSE\n",
    "r2 = r2_score(y_test,y_predict_test)  ## Returns R2 value\n",
    "#acc = accuracy_score(y_test,y_predict_test)   #Accuracy for classification\n",
    "\n",
    "print('Mean Square Error:',mse)\n",
    "print('Root Mean Square Error:',rmse)\n",
    "print('R^2:',r2)\n",
    "\n",
    "sns.scatterplot(y_test,y_predict_test)\n",
    "plt.xlabel('Actual')\n",
    "plt.ylabel('Predicted')\n",
    "plt.title(\"Support Vector Regression Model\")"
   ]
  },
  {
   "cell_type": "code",
   "execution_count": null,
   "id": "60fe0f41",
   "metadata": {},
   "outputs": [],
   "source": []
  }
 ],
 "metadata": {
  "kernelspec": {
   "display_name": "Python 3 (ipykernel)",
   "language": "python",
   "name": "python3"
  },
  "language_info": {
   "codemirror_mode": {
    "name": "ipython",
    "version": 3
   },
   "file_extension": ".py",
   "mimetype": "text/x-python",
   "name": "python",
   "nbconvert_exporter": "python",
   "pygments_lexer": "ipython3",
   "version": "3.9.7"
  }
 },
 "nbformat": 4,
 "nbformat_minor": 5
}
