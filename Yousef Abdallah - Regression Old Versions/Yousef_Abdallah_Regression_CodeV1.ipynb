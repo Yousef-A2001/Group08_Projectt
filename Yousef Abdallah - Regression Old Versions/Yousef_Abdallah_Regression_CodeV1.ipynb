{
 "cells": [
  {
   "cell_type": "code",
   "execution_count": 17,
   "id": "d24c1ff4",
   "metadata": {
    "scrolled": false
   },
   "outputs": [
    {
     "name": "stdout",
     "output_type": "stream",
     "text": [
      "   nHM  piPC09   PCD  X2Av  MLOGP  ON1V  N-072  B02[C-N]  F04[C-O]\n",
      "0    0     0.0  1.49  0.14   1.35  0.72      0         1         5\n",
      "1    0     0.0  1.47  0.14   1.70  0.88      0         1         5\n",
      "2    0     0.0  1.20  0.25   4.14  2.06      0         0         0\n",
      "3    0     0.0  1.69  0.13   1.89  0.79      0         1         8\n",
      "4    0     0.0  0.52  0.25   2.65  1.31      0         0         0\n",
      "0    0.74\n",
      "1    0.93\n",
      "2    3.24\n",
      "3   -0.40\n",
      "4    2.24\n",
      "Name: logBCF, dtype: float64\n"
     ]
    },
    {
     "data": {
      "text/plain": [
       "(623, 9)"
      ]
     },
     "execution_count": 17,
     "metadata": {},
     "output_type": "execute_result"
    }
   ],
   "source": [
    "import numpy as np\n",
    "import pandas as pd\n",
    "import matplotlib.pyplot as plt\n",
    "import seaborn as sns\n",
    "from sklearn.model_selection import train_test_split\n",
    "\n",
    "data = pd.read_csv('C:/Users/abdal/Desktop/Winter 2022/BMEN 415/Project/Regression/Regression_QSAR_Bioconcentration.csv')\n",
    "\n",
    "##TRAINING: INDEX 0 to 584\n",
    "##TESTING: INDEX 585 to 778\n",
    "df = pd.DataFrame(data)\n",
    "train = df.iloc[0:584,3:14]\n",
    "test = df.iloc[585:778,3:14]\n",
    "x = df.iloc[:,3:12]\n",
    "y = df.iloc[:,13]\n",
    "x_train, x_test, y_train, y_test = train_test_split(x,y,train_size=0.8, random_state=5)\n",
    "print(x.head())\n",
    "print(y.head())\n",
    "train.corr()\n",
    "x_train.shape"
   ]
  },
  {
   "cell_type": "code",
   "execution_count": 18,
   "id": "a5e97a23",
   "metadata": {
    "scrolled": false
   },
   "outputs": [
    {
     "name": "stdout",
     "output_type": "stream",
     "text": [
      "Mean Square Error: 0.5258405412342483\n",
      "Root Mean Square Error: 0.7251486338911826\n",
      "R^2: 0.7498906335924131\n"
     ]
    }
   ],
   "source": [
    "###Random Forest\n",
    "\n",
    "from sklearn.ensemble import RandomForestRegressor\n",
    "from sklearn.metrics import mean_squared_error,accuracy_score,r2_score\n",
    "\n",
    "rfr = RandomForestRegressor(random_state=5) ##Creating a model object of type Random forest regressor\n",
    "rfr.fit(x_train,y_train)    #Training the model\n",
    "\n",
    "y_predict_test = rfr.predict(x_test)   #Predicted Values\n",
    "\n",
    "mse = mean_squared_error(y_test,y_predict_test,squared=True) #Returns MSE\n",
    "rmse = mean_squared_error(y_test,y_predict_test,squared=False) #Returns RMSE\n",
    "r2 = r2_score(y_test,y_predict_test)  ## Returns R2 value\n",
    "\n",
    "\n",
    "print('Mean Square Error:',mse)\n",
    "print('Root Mean Square Error:',rmse)\n",
    "print('R^2:',r2)\n",
    "\n",
    "\n"
   ]
  },
  {
   "cell_type": "code",
   "execution_count": 10,
   "id": "ebd92b51",
   "metadata": {},
   "outputs": [
    {
     "name": "stdout",
     "output_type": "stream",
     "text": [
      "Mean Square Error: 0.34676208348712134\n",
      "Root Mean Square Error: 0.5888650808862089\n",
      "R^2: 0.8350670247075844\n"
     ]
    }
   ],
   "source": [
    "### Bagged Forest\n",
    "from sklearn.ensemble import BaggingRegressor\n",
    "from sklearn.metrics import mean_squared_error,accuracy_score,r2_score\n",
    "\n",
    "bfr = BaggingRegressor(random_state=5)\n",
    "bfr.fit(x_train,y_train)\n",
    "\n",
    "y_predict_test = bfr.predict(x_test)\n",
    "\n",
    "mse = mean_squared_error(y_test,y_predict_test,squared=True) #Returns MSE\n",
    "rmse = mean_squared_error(y_test,y_predict_test,squared=False) #Returns RMSE\n",
    "r2 = r2_score(y_test,y_predict_test)  ## Returns R2 value\n",
    "#acc = accuracy_score(y_test,y_predict_test)   #Accuracy for classification\n",
    "\n",
    "print('Mean Square Error:',mse)\n",
    "print('Root Mean Square Error:',rmse)\n",
    "print('R^2:',r2)"
   ]
  },
  {
   "cell_type": "code",
   "execution_count": 12,
   "id": "1cbde898",
   "metadata": {},
   "outputs": [
    {
     "name": "stdout",
     "output_type": "stream",
     "text": [
      "Mean Square Error: 0.40979625727038677\n",
      "Root Mean Square Error: 0.6401533076305915\n",
      "R^2: 0.8050856215431313\n"
     ]
    }
   ],
   "source": [
    "###Support Vector Regression\n",
    "\n",
    "from sklearn.svm import SVR\n",
    "from sklearn.metrics import mean_squared_error,accuracy_score,r2_score\n",
    "\n",
    "svr = SVR()\n",
    "svr.fit(x_train,y_train)\n",
    "\n",
    "y_predict_test = svr.predict(x_test)\n",
    "\n",
    "mse = mean_squared_error(y_test,y_predict_test,squared=True) #Returns MSE\n",
    "rmse = mean_squared_error(y_test,y_predict_test,squared=False) #Returns RMSE\n",
    "r2 = r2_score(y_test,y_predict_test)  ## Returns R2 value\n",
    "#acc = accuracy_score(y_test,y_predict_test)   #Accuracy for classification\n",
    "\n",
    "print('Mean Square Error:',mse)\n",
    "print('Root Mean Square Error:',rmse)\n",
    "print('R^2:',r2)"
   ]
  },
  {
   "cell_type": "code",
   "execution_count": 16,
   "id": "caf61952",
   "metadata": {},
   "outputs": [
    {
     "name": "stdout",
     "output_type": "stream",
     "text": [
      "Mean Square Error: 0.3911845084520606\n",
      "Root Mean Square Error: 0.6254474465948843\n",
      "R^2: 0.8139380631859202\n"
     ]
    }
   ],
   "source": [
    "### Random Forest with normalized features\n",
    "\n",
    "from sklearn.preprocessing import StandardScaler\n",
    "from sklearn.ensemble import RandomForestRegressor\n",
    "from sklearn.metrics import mean_squared_error,accuracy_score,r2_score\n",
    "\n",
    "scaler = StandardScaler()\n",
    "x_train_scaled = scaler.fit_transform(x_train)\n",
    "x_test_scaled = scaler.fit_transform(x_test)\n",
    "\n",
    "rfr = RandomForestRegressor(random_state=5) ##Creating a model object of type Random forest regressor\n",
    "rfr.fit(x_train_scaled,y_train)    #Training the model\n",
    "\n",
    "y_predict_test = rfr.predict(x_test_scaled)   #Predicted Values\n",
    "\n",
    "mse = mean_squared_error(y_test,y_predict_test,squared=True) #Returns MSE\n",
    "rmse = mean_squared_error(y_test,y_predict_test,squared=False) #Returns RMSE\n",
    "r2 = r2_score(y_test,y_predict_test)  ## Returns R2 value\n",
    "\n",
    "\n",
    "print('Mean Square Error:',mse)\n",
    "print('Root Mean Square Error:',rmse)\n",
    "print('R^2:',r2)\n",
    "\n",
    "#x_train_scaled.shape\n"
   ]
  },
  {
   "cell_type": "code",
   "execution_count": 51,
   "id": "28a08e82",
   "metadata": {},
   "outputs": [],
   "source": [
    "### Random Forest with PCA\n",
    "\n"
   ]
  },
  {
   "cell_type": "code",
   "execution_count": null,
   "id": "25ea8359",
   "metadata": {},
   "outputs": [],
   "source": []
  }
 ],
 "metadata": {
  "kernelspec": {
   "display_name": "Python 3 (ipykernel)",
   "language": "python",
   "name": "python3"
  },
  "language_info": {
   "codemirror_mode": {
    "name": "ipython",
    "version": 3
   },
   "file_extension": ".py",
   "mimetype": "text/x-python",
   "name": "python",
   "nbconvert_exporter": "python",
   "pygments_lexer": "ipython3",
   "version": "3.9.7"
  }
 },
 "nbformat": 4,
 "nbformat_minor": 5
}
